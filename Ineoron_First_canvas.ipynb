{
 "cells": [
  {
   "cell_type": "code",
   "execution_count": 1,
   "metadata": {},
   "outputs": [
    {
     "name": "stdout",
     "output_type": "stream",
     "text": [
      "2002,2009,2016,2023,2037,2044,2051,2058,2072,2079,2086,2093,2107,2114,2121,2128,2142,2149,2156,2163,2177,2184,2191,2198,2212,2219,2226,2233,2247,2254,2261,2268,2282,2289,2296,2303,2317,2324,2331,2338,2352,2359,2366,2373,2387,2394,2401,2408,2422,2429,2436,2443,2457,2464,2471,2478,2492,2499,2506,2513,2527,2534,2541,2548,2562,2569,2576,2583,2597,2604,2611,2618,2632,2639,2646,2653,2667,2674,2681,2688,2702,2709,2716,2723,2737,2744,2751,2758,2772,2779,2786,2793,2807,2814,2821,2828,2842,2849,2856,2863,2877,2884,2891,2898,2912,2919,2926,2933,2947,2954,2961,2968,2982,2989,2996,3003,3017,3024,3031,3038,3052,3059,3066,3073,3087,3094,3101,3108,3122,3129,3136,3143,3157,3164,3171,3178,3192,3199,\n"
     ]
    }
   ],
   "source": [
    "#tASK1,,Questionno-2\n",
    "\n",
    "for i in range(2000,3201):\n",
    "    if i%7==0 and i%5!=0:\n",
    "        \n",
    "        print(i,end=\",\")\n",
    "print()\n"
   ]
  },
  {
   "cell_type": "code",
   "execution_count": 11,
   "metadata": {},
   "outputs": [
    {
     "name": "stdout",
     "output_type": "stream",
     "text": [
      "enter the first name:Rahul\n",
      "enter second name:Kumar\n",
      "luhaR ramuK\n"
     ]
    }
   ],
   "source": [
    "#first method\n",
    "#task1 Question no-3\n",
    "first_name = input(\"enter the first name:\")\n",
    "last_name = input(\"enter second name:\")\n",
    "output = first_name[::-1]+\" \"+last_name[::-1]\n",
    "print(output)\n"
   ]
  },
  {
   "cell_type": "code",
   "execution_count": 21,
   "metadata": {},
   "outputs": [
    {
     "name": "stdout",
     "output_type": "stream",
     "text": [
      "luhaR ramuK\n"
     ]
    }
   ],
   "source": [
    "#second method\n",
    "#task1 Question no-3\n",
    "user_name = \"Rahul Kumar\"\n",
    "\n",
    "l = user_name.split(\" \")\n",
    "l1=[]\n",
    "i = 0\n",
    "while i<len(l):\n",
    "    l1.append(l[i][::-1])\n",
    "     \n",
    "    i+=1\n",
    "output = \" \".join(l1)\n",
    "print(output)"
   ]
  },
  {
   "cell_type": "code",
   "execution_count": 55,
   "metadata": {},
   "outputs": [
    {
     "name": "stdout",
     "output_type": "stream",
     "text": [
      "6.0\n",
      "904.3199999999999\n"
     ]
    }
   ],
   "source": [
    "#task1 Question no-4\n",
    "#from math import *\n",
    "π=3.14\n",
    "d = 12\n",
    "r = d/2\n",
    "V=4/3 * π * r**3    \n",
    "print(r)\n",
    "print(V)"
   ]
  },
  {
   "cell_type": "code",
   "execution_count": 71,
   "metadata": {},
   "outputs": [
    {
     "name": "stdout",
     "output_type": "stream",
     "text": [
      "enter the number:1,2,3,4,5\n",
      "['1', '2', '3', '4', '5']\n"
     ]
    }
   ],
   "source": [
    "#task2 Question no-1\n",
    "n = input(\"enter the number:\")\n",
    "l = n.split(\",\")\n",
    "print(l)"
   ]
  },
  {
   "cell_type": "code",
   "execution_count": 2,
   "metadata": {},
   "outputs": [
    {
     "name": "stdout",
     "output_type": "stream",
     "text": [
      "enter the number of rows:5\n",
      "*\n",
      "**\n",
      "***\n",
      "****\n",
      "*****\n",
      "****\n",
      "***\n",
      "**\n",
      "*\n"
     ]
    }
   ],
   "source": [
    "#task2 Question no-2\n",
    "n = int(input(\"enter the number of rows:\"))\n",
    "for i in range(n):\n",
    "    print(\"*\"*(i+1))\n",
    "for i in range(n-1):\n",
    "    print(\"*\"*(n-i-1))"
   ]
  },
  {
   "cell_type": "code",
   "execution_count": null,
   "metadata": {},
   "outputs": [],
   "source": [
    "#input-AcadGild\n",
    "#output-dilGdacA"
   ]
  },
  {
   "cell_type": "code",
   "execution_count": 106,
   "metadata": {},
   "outputs": [
    {
     "name": "stdout",
     "output_type": "stream",
     "text": [
      "dilGdacA\n"
     ]
    }
   ],
   "source": [
    "word = 'AcadGild'\n",
    "word1 = word[0:5]\n",
    "x=  word[-1]+ word[-3]+word[-2] +word1[::-1]\n",
    "print(x)"
   ]
  },
  {
   "cell_type": "code",
   "execution_count": 105,
   "metadata": {},
   "outputs": [
    {
     "name": "stdout",
     "output_type": "stream",
     "text": [
      "WE  THE PEOPLE OF INDIA\n",
      "\t having solemnly resolved to constitute India into a SOVEREIGN\n",
      "\t\tSECULAR DEMOCRATIC REPUBLIC and to secure to all its citizensSECULAR DEMOCRATIC REPUBLIC\n",
      "\t\tand to secure to all its citizens\n"
     ]
    }
   ],
   "source": [
    "s=\"WE, THE PEOPLE OF INDIA, having solemnly resolved to constitute India into a SOVEREIGN, SOCIALIST, SECULAR, DEMOCRATIC REPUBLIC and to secure to all its citizens\" \n",
    "l=s.split(\",\")\n",
    "\n",
    "s2=(\" \".join(l[4:])).split()\n",
    "s4=s2[3:]\n",
    "s3=s2[0:3]\n",
    "s1=\" \".join(l[0:2])+\"\\n\\t\"+\" \".join(l[2].split(\",\"))+\"\\n\\t\\t\"+\" \".join(s2)+\" \".join(s3)+\"\\n\\t\\t\"+ \" \".join(s4)\n",
    "\n",
    "print((s1))\n"
   ]
  },
  {
   "cell_type": "code",
   "execution_count": null,
   "metadata": {},
   "outputs": [],
   "source": []
  }
 ],
 "metadata": {
  "kernelspec": {
   "display_name": "Python 3",
   "language": "python",
   "name": "python3"
  },
  "language_info": {
   "codemirror_mode": {
    "name": "ipython",
    "version": 3
   },
   "file_extension": ".py",
   "mimetype": "text/x-python",
   "name": "python",
   "nbconvert_exporter": "python",
   "pygments_lexer": "ipython3",
   "version": "3.7.4"
  }
 },
 "nbformat": 4,
 "nbformat_minor": 2
}
